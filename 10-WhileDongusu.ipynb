{
 "cells": [
  {
   "cell_type": "markdown",
   "metadata": {},
   "source": [
    "# While Döngüsü"
   ]
  },
  {
   "cell_type": "code",
   "execution_count": 107,
   "metadata": {},
   "outputs": [],
   "source": [
    "x = 0"
   ]
  },
  {
   "cell_type": "code",
   "execution_count": 108,
   "metadata": {},
   "outputs": [
    {
     "name": "stdout",
     "output_type": "stream",
     "text": [
      "0\n",
      "1\n",
      "2\n",
      "3\n",
      "4\n",
      "5\n",
      "6\n",
      "7\n",
      "8\n",
      "9\n"
     ]
    }
   ],
   "source": [
    "while x < 10:\n",
    "    print(x)\n",
    "    x = x + 1"
   ]
  },
  {
   "cell_type": "code",
   "execution_count": null,
   "metadata": {},
   "outputs": [],
   "source": []
  },
  {
   "cell_type": "code",
   "execution_count": 109,
   "metadata": {},
   "outputs": [],
   "source": [
    "benimListem = [1,2,3,4,5]"
   ]
  },
  {
   "cell_type": "code",
   "execution_count": 110,
   "metadata": {},
   "outputs": [
    {
     "data": {
      "text/plain": [
       "5"
      ]
     },
     "execution_count": 110,
     "metadata": {},
     "output_type": "execute_result"
    }
   ],
   "source": [
    "benimListem.pop()"
   ]
  },
  {
   "cell_type": "code",
   "execution_count": 111,
   "metadata": {},
   "outputs": [
    {
     "data": {
      "text/plain": [
       "[1, 2, 3, 4]"
      ]
     },
     "execution_count": 111,
     "metadata": {},
     "output_type": "execute_result"
    }
   ],
   "source": [
    "benimListem"
   ]
  },
  {
   "cell_type": "code",
   "execution_count": 112,
   "metadata": {},
   "outputs": [],
   "source": [
    "benimListem.append(5)"
   ]
  },
  {
   "cell_type": "code",
   "execution_count": 113,
   "metadata": {},
   "outputs": [
    {
     "data": {
      "text/plain": [
       "[1, 2, 3, 4, 5]"
      ]
     },
     "execution_count": 113,
     "metadata": {},
     "output_type": "execute_result"
    }
   ],
   "source": [
    "benimListem"
   ]
  },
  {
   "cell_type": "code",
   "execution_count": 114,
   "metadata": {},
   "outputs": [
    {
     "name": "stdout",
     "output_type": "stream",
     "text": [
      "[1, 2, 3, 4, 5]\n",
      "3 hala listenin içerisinde\n",
      "\n",
      "\n",
      "[1, 2, 3, 4]\n",
      "3 hala listenin içerisinde\n",
      "\n",
      "\n",
      "[1, 2, 3]\n",
      "3 hala listenin içerisinde\n",
      "\n",
      "\n",
      "Döngü Bitti\n",
      "Listede kalanlar: [1, 2]\n"
     ]
    }
   ],
   "source": [
    "while 3 in benimListem:\n",
    "    print(benimListem)\n",
    "    print(\"3 hala listenin içerisinde\")\n",
    "    print(\"\\n\")\n",
    "    benimListem.pop()\n",
    "print(\"Döngü Bitti\")\n",
    "print(\"Listede kalanlar:\", benimListem)"
   ]
  },
  {
   "cell_type": "code",
   "execution_count": null,
   "metadata": {},
   "outputs": [],
   "source": []
  },
  {
   "cell_type": "code",
   "execution_count": 115,
   "metadata": {},
   "outputs": [],
   "source": [
    "numara = 0"
   ]
  },
  {
   "cell_type": "code",
   "execution_count": 116,
   "metadata": {},
   "outputs": [
    {
     "name": "stdout",
     "output_type": "stream",
     "text": [
      "0\n",
      "1\n",
      "2\n",
      "3\n"
     ]
    }
   ],
   "source": [
    "while numara < 5:\n",
    "    if numara == 4:\n",
    "        break\n",
    "    print(numara)\n",
    "    numara = numara + 1"
   ]
  },
  {
   "cell_type": "code",
   "execution_count": null,
   "metadata": {},
   "outputs": [],
   "source": []
  },
  {
   "cell_type": "code",
   "execution_count": 4,
   "metadata": {},
   "outputs": [],
   "source": [
    "yeniDegisken = 0"
   ]
  },
  {
   "cell_type": "code",
   "execution_count": 5,
   "metadata": {},
   "outputs": [
    {
     "name": "stdout",
     "output_type": "stream",
     "text": [
      "yeniDegisken'in Güncel Değeri: 0\n",
      "yeniDegisken'in Güncel Değeri:0\n",
      "yeniDegisken'in Güncel Değeri: 0\n",
      "yeniDegisken'in Güncel Değeri: 1\n",
      "yeniDegisken'in Güncel Değeri:1\n",
      "yeniDegisken'in Güncel Değeri: 1\n",
      "yeniDegisken'in Güncel Değeri: 2\n",
      "yeniDegisken'in Güncel Değeri:2\n",
      "yeniDegisken'in Güncel Değeri: 2\n",
      "yeniDegisken'in Güncel Değeri: 3\n",
      "yeniDegisken'in Güncel Değeri:3\n",
      "yeniDegisken'in Güncel Değeri: 3\n"
     ]
    }
   ],
   "source": [
    "while yeniDegisken < 4:\n",
    "    print(\"yeniDegisken'in Güncel Değeri:\", str(yeniDegisken))\n",
    "    print(\"yeniDegisken'in Güncel Değeri:\" + str(yeniDegisken))\n",
    "    print(f\"yeniDegisken'in Güncel Değeri: {yeniDegisken}\")\n",
    "    yeniDegisken = yeniDegisken + 1"
   ]
  },
  {
   "cell_type": "code",
   "execution_count": null,
   "metadata": {},
   "outputs": [],
   "source": []
  },
  {
   "cell_type": "code",
   "execution_count": 127,
   "metadata": {},
   "outputs": [],
   "source": [
    "myNum = 0"
   ]
  },
  {
   "cell_type": "code",
   "execution_count": 128,
   "metadata": {},
   "outputs": [
    {
     "name": "stdout",
     "output_type": "stream",
     "text": [
      "(0 + 2) * 3 = 6\n",
      "(1 + 2) * 3 = 9\n",
      "(2 + 2) * 3 = 12\n",
      "(3 + 2) * 3 = 15\n"
     ]
    }
   ],
   "source": [
    "while myNum < 4:\n",
    "    print(f\"({myNum} + 2) * 3 = {(myNum + 2) * 3}\")\n",
    "    myNum = myNum + 1"
   ]
  }
 ],
 "metadata": {
  "kernelspec": {
   "display_name": "Python 3 (ipykernel)",
   "language": "python",
   "name": "python3"
  },
  "language_info": {
   "codemirror_mode": {
    "name": "ipython",
    "version": 3
   },
   "file_extension": ".py",
   "mimetype": "text/x-python",
   "name": "python",
   "nbconvert_exporter": "python",
   "pygments_lexer": "ipython3",
   "version": "3.8.8"
  }
 },
 "nbformat": 4,
 "nbformat_minor": 4
}
